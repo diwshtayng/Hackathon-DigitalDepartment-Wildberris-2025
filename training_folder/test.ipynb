{
 "cells": [
  {
   "cell_type": "code",
   "execution_count": null,
   "metadata": {},
   "outputs": [
    {
     "ename": "ImportError",
     "evalue": "cannot import name 'preprocess1' from 'preprocessor' (/Users/sergegribo/Desktop/ML/git_hackaton/Hackathon-DigitalDepartment-Wildberris-2025/training_folder/preprocessor.py)",
     "output_type": "error",
     "traceback": [
      "\u001b[0;31m---------------------------------------------------------------------------\u001b[0m",
      "\u001b[0;31mImportError\u001b[0m                               Traceback (most recent call last)",
      "Cell \u001b[0;32mIn[31], line 2\u001b[0m\n\u001b[1;32m      1\u001b[0m \u001b[38;5;28;01mimport\u001b[39;00m \u001b[38;5;21;01mpandas\u001b[39;00m \u001b[38;5;28;01mas\u001b[39;00m \u001b[38;5;21;01mpd\u001b[39;00m\n\u001b[0;32m----> 2\u001b[0m \u001b[38;5;28;01mfrom\u001b[39;00m \u001b[38;5;21;01mpreprocessor\u001b[39;00m \u001b[38;5;28;01mimport\u001b[39;00m preprocess1\n",
      "\u001b[0;31mImportError\u001b[0m: cannot import name 'preprocess1' from 'preprocessor' (/Users/sergegribo/Desktop/ML/git_hackaton/Hackathon-DigitalDepartment-Wildberris-2025/training_folder/preprocessor.py)"
     ]
    }
   ],
   "source": [
    "import pandas as pd\n",
    "from preprocessor import preprocess"
   ]
  },
  {
   "cell_type": "code",
   "execution_count": 27,
   "metadata": {},
   "outputs": [],
   "source": [
    "df = pd.read_csv('df_test.csv')"
   ]
  },
  {
   "cell_type": "code",
   "execution_count": 28,
   "metadata": {},
   "outputs": [],
   "source": [
    "df.drop('target', axis=1, inplace=True)"
   ]
  },
  {
   "cell_type": "code",
   "execution_count": 32,
   "metadata": {},
   "outputs": [],
   "source": [
    "df['CreatedDate'] = pd.to_datetime(df['CreatedDate'])\n",
    "df['order_hour'] = df['CreatedDate'].dt.hour\n",
    "df.drop('CreatedDate', axis=1, inplace=True)\n",
    "df.drop(columns=['nm_id', 'user_id'], inplace=True)"
   ]
  },
  {
   "cell_type": "code",
   "execution_count": 33,
   "metadata": {},
   "outputs": [
    {
     "data": {
      "text/html": [
       "<div>\n",
       "<style scoped>\n",
       "    .dataframe tbody tr th:only-of-type {\n",
       "        vertical-align: middle;\n",
       "    }\n",
       "\n",
       "    .dataframe tbody tr th {\n",
       "        vertical-align: top;\n",
       "    }\n",
       "\n",
       "    .dataframe thead th {\n",
       "        text-align: right;\n",
       "    }\n",
       "</style>\n",
       "<table border=\"1\" class=\"dataframe\">\n",
       "  <thead>\n",
       "    <tr style=\"text-align: right;\">\n",
       "      <th></th>\n",
       "      <th>service</th>\n",
       "      <th>total_ordered</th>\n",
       "      <th>PaymentType</th>\n",
       "      <th>IsPaid</th>\n",
       "      <th>count_items</th>\n",
       "      <th>unique_items</th>\n",
       "      <th>avg_unique_purchase</th>\n",
       "      <th>is_courier</th>\n",
       "      <th>NmAge</th>\n",
       "      <th>Distance</th>\n",
       "      <th>DaysAfterRegistration</th>\n",
       "      <th>number_of_orders</th>\n",
       "      <th>number_of_ordered_items</th>\n",
       "      <th>mean_number_of_ordered_items</th>\n",
       "      <th>min_number_of_ordered_items</th>\n",
       "      <th>max_number_of_ordered_items</th>\n",
       "      <th>mean_percent_of_ordered_items</th>\n",
       "      <th>order_hour</th>\n",
       "    </tr>\n",
       "  </thead>\n",
       "  <tbody>\n",
       "    <tr>\n",
       "      <th>0</th>\n",
       "      <td>nnsz</td>\n",
       "      <td>854</td>\n",
       "      <td>CSH</td>\n",
       "      <td>False</td>\n",
       "      <td>0</td>\n",
       "      <td>0</td>\n",
       "      <td>0.00</td>\n",
       "      <td>0</td>\n",
       "      <td>114</td>\n",
       "      <td>913</td>\n",
       "      <td>1078</td>\n",
       "      <td>1</td>\n",
       "      <td>854</td>\n",
       "      <td>854.0</td>\n",
       "      <td>854</td>\n",
       "      <td>854</td>\n",
       "      <td>100.0</td>\n",
       "      <td>16</td>\n",
       "    </tr>\n",
       "    <tr>\n",
       "      <th>1</th>\n",
       "      <td>ordo</td>\n",
       "      <td>534</td>\n",
       "      <td>QRS</td>\n",
       "      <td>False</td>\n",
       "      <td>125</td>\n",
       "      <td>33</td>\n",
       "      <td>0.26</td>\n",
       "      <td>0</td>\n",
       "      <td>143</td>\n",
       "      <td>105</td>\n",
       "      <td>2792</td>\n",
       "      <td>5</td>\n",
       "      <td>1062</td>\n",
       "      <td>212.4</td>\n",
       "      <td>88</td>\n",
       "      <td>534</td>\n",
       "      <td>20.0</td>\n",
       "      <td>6</td>\n",
       "    </tr>\n",
       "    <tr>\n",
       "      <th>2</th>\n",
       "      <td>ordo</td>\n",
       "      <td>472</td>\n",
       "      <td>CRD</td>\n",
       "      <td>True</td>\n",
       "      <td>0</td>\n",
       "      <td>0</td>\n",
       "      <td>0.00</td>\n",
       "      <td>0</td>\n",
       "      <td>578</td>\n",
       "      <td>94</td>\n",
       "      <td>29</td>\n",
       "      <td>1</td>\n",
       "      <td>472</td>\n",
       "      <td>472.0</td>\n",
       "      <td>472</td>\n",
       "      <td>472</td>\n",
       "      <td>100.0</td>\n",
       "      <td>14</td>\n",
       "    </tr>\n",
       "    <tr>\n",
       "      <th>3</th>\n",
       "      <td>ordo</td>\n",
       "      <td>440</td>\n",
       "      <td>CSH</td>\n",
       "      <td>False</td>\n",
       "      <td>2212</td>\n",
       "      <td>9</td>\n",
       "      <td>0.00</td>\n",
       "      <td>0</td>\n",
       "      <td>1928</td>\n",
       "      <td>1849</td>\n",
       "      <td>1349</td>\n",
       "      <td>1</td>\n",
       "      <td>440</td>\n",
       "      <td>440.0</td>\n",
       "      <td>440</td>\n",
       "      <td>440</td>\n",
       "      <td>100.0</td>\n",
       "      <td>14</td>\n",
       "    </tr>\n",
       "    <tr>\n",
       "      <th>4</th>\n",
       "      <td>nnsz</td>\n",
       "      <td>400</td>\n",
       "      <td>CSH</td>\n",
       "      <td>False</td>\n",
       "      <td>0</td>\n",
       "      <td>0</td>\n",
       "      <td>0.00</td>\n",
       "      <td>0</td>\n",
       "      <td>43</td>\n",
       "      <td>2331</td>\n",
       "      <td>2168</td>\n",
       "      <td>1</td>\n",
       "      <td>400</td>\n",
       "      <td>400.0</td>\n",
       "      <td>400</td>\n",
       "      <td>400</td>\n",
       "      <td>100.0</td>\n",
       "      <td>8</td>\n",
       "    </tr>\n",
       "  </tbody>\n",
       "</table>\n",
       "</div>"
      ],
      "text/plain": [
       "  service  total_ordered PaymentType  IsPaid  count_items  unique_items  \\\n",
       "0    nnsz            854         CSH   False            0             0   \n",
       "1    ordo            534         QRS   False          125            33   \n",
       "2    ordo            472         CRD    True            0             0   \n",
       "3    ordo            440         CSH   False         2212             9   \n",
       "4    nnsz            400         CSH   False            0             0   \n",
       "\n",
       "   avg_unique_purchase  is_courier  NmAge  Distance  DaysAfterRegistration  \\\n",
       "0                 0.00           0    114       913                   1078   \n",
       "1                 0.26           0    143       105                   2792   \n",
       "2                 0.00           0    578        94                     29   \n",
       "3                 0.00           0   1928      1849                   1349   \n",
       "4                 0.00           0     43      2331                   2168   \n",
       "\n",
       "   number_of_orders  number_of_ordered_items  mean_number_of_ordered_items  \\\n",
       "0                 1                      854                         854.0   \n",
       "1                 5                     1062                         212.4   \n",
       "2                 1                      472                         472.0   \n",
       "3                 1                      440                         440.0   \n",
       "4                 1                      400                         400.0   \n",
       "\n",
       "   min_number_of_ordered_items  max_number_of_ordered_items  \\\n",
       "0                          854                          854   \n",
       "1                           88                          534   \n",
       "2                          472                          472   \n",
       "3                          440                          440   \n",
       "4                          400                          400   \n",
       "\n",
       "   mean_percent_of_ordered_items  order_hour  \n",
       "0                          100.0          16  \n",
       "1                           20.0           6  \n",
       "2                          100.0          14  \n",
       "3                          100.0          14  \n",
       "4                          100.0           8  "
      ]
     },
     "execution_count": 33,
     "metadata": {},
     "output_type": "execute_result"
    }
   ],
   "source": [
    "df.head()"
   ]
  },
  {
   "cell_type": "code",
   "execution_count": 57,
   "metadata": {},
   "outputs": [],
   "source": [
    "one_line = df.loc[:0]"
   ]
  },
  {
   "cell_type": "code",
   "execution_count": 58,
   "metadata": {},
   "outputs": [
    {
     "data": {
      "text/html": [
       "<div>\n",
       "<style scoped>\n",
       "    .dataframe tbody tr th:only-of-type {\n",
       "        vertical-align: middle;\n",
       "    }\n",
       "\n",
       "    .dataframe tbody tr th {\n",
       "        vertical-align: top;\n",
       "    }\n",
       "\n",
       "    .dataframe thead th {\n",
       "        text-align: right;\n",
       "    }\n",
       "</style>\n",
       "<table border=\"1\" class=\"dataframe\">\n",
       "  <thead>\n",
       "    <tr style=\"text-align: right;\">\n",
       "      <th></th>\n",
       "      <th>service</th>\n",
       "      <th>total_ordered</th>\n",
       "      <th>PaymentType</th>\n",
       "      <th>IsPaid</th>\n",
       "      <th>count_items</th>\n",
       "      <th>unique_items</th>\n",
       "      <th>avg_unique_purchase</th>\n",
       "      <th>is_courier</th>\n",
       "      <th>NmAge</th>\n",
       "      <th>Distance</th>\n",
       "      <th>DaysAfterRegistration</th>\n",
       "      <th>number_of_orders</th>\n",
       "      <th>number_of_ordered_items</th>\n",
       "      <th>mean_number_of_ordered_items</th>\n",
       "      <th>min_number_of_ordered_items</th>\n",
       "      <th>max_number_of_ordered_items</th>\n",
       "      <th>mean_percent_of_ordered_items</th>\n",
       "      <th>order_hour</th>\n",
       "    </tr>\n",
       "  </thead>\n",
       "  <tbody>\n",
       "    <tr>\n",
       "      <th>0</th>\n",
       "      <td>nnsz</td>\n",
       "      <td>854</td>\n",
       "      <td>CSH</td>\n",
       "      <td>False</td>\n",
       "      <td>0</td>\n",
       "      <td>0</td>\n",
       "      <td>0.0</td>\n",
       "      <td>0</td>\n",
       "      <td>114</td>\n",
       "      <td>913</td>\n",
       "      <td>1078</td>\n",
       "      <td>1</td>\n",
       "      <td>854</td>\n",
       "      <td>854.0</td>\n",
       "      <td>854</td>\n",
       "      <td>854</td>\n",
       "      <td>100.0</td>\n",
       "      <td>16</td>\n",
       "    </tr>\n",
       "  </tbody>\n",
       "</table>\n",
       "</div>"
      ],
      "text/plain": [
       "  service  total_ordered PaymentType  IsPaid  count_items  unique_items  \\\n",
       "0    nnsz            854         CSH   False            0             0   \n",
       "\n",
       "   avg_unique_purchase  is_courier  NmAge  Distance  DaysAfterRegistration  \\\n",
       "0                  0.0           0    114       913                   1078   \n",
       "\n",
       "   number_of_orders  number_of_ordered_items  mean_number_of_ordered_items  \\\n",
       "0                 1                      854                         854.0   \n",
       "\n",
       "   min_number_of_ordered_items  max_number_of_ordered_items  \\\n",
       "0                          854                          854   \n",
       "\n",
       "   mean_percent_of_ordered_items  order_hour  \n",
       "0                          100.0          16  "
      ]
     },
     "execution_count": 58,
     "metadata": {},
     "output_type": "execute_result"
    }
   ],
   "source": [
    "one_line"
   ]
  },
  {
   "cell_type": "code",
   "execution_count": 59,
   "metadata": {},
   "outputs": [],
   "source": [
    "one_line.to_csv('test_data.csv', index=False)"
   ]
  },
  {
   "cell_type": "code",
   "execution_count": 60,
   "metadata": {},
   "outputs": [],
   "source": [
    "df_new = pd.read_csv('test_data.csv')"
   ]
  },
  {
   "cell_type": "code",
   "execution_count": null,
   "metadata": {},
   "outputs": [],
   "source": []
  },
  {
   "cell_type": "code",
   "execution_count": 61,
   "metadata": {},
   "outputs": [
    {
     "data": {
      "text/html": [
       "<div>\n",
       "<style scoped>\n",
       "    .dataframe tbody tr th:only-of-type {\n",
       "        vertical-align: middle;\n",
       "    }\n",
       "\n",
       "    .dataframe tbody tr th {\n",
       "        vertical-align: top;\n",
       "    }\n",
       "\n",
       "    .dataframe thead th {\n",
       "        text-align: right;\n",
       "    }\n",
       "</style>\n",
       "<table border=\"1\" class=\"dataframe\">\n",
       "  <thead>\n",
       "    <tr style=\"text-align: right;\">\n",
       "      <th></th>\n",
       "      <th>service</th>\n",
       "      <th>total_ordered</th>\n",
       "      <th>PaymentType</th>\n",
       "      <th>IsPaid</th>\n",
       "      <th>count_items</th>\n",
       "      <th>unique_items</th>\n",
       "      <th>avg_unique_purchase</th>\n",
       "      <th>is_courier</th>\n",
       "      <th>NmAge</th>\n",
       "      <th>Distance</th>\n",
       "      <th>DaysAfterRegistration</th>\n",
       "      <th>number_of_orders</th>\n",
       "      <th>number_of_ordered_items</th>\n",
       "      <th>mean_number_of_ordered_items</th>\n",
       "      <th>min_number_of_ordered_items</th>\n",
       "      <th>max_number_of_ordered_items</th>\n",
       "      <th>mean_percent_of_ordered_items</th>\n",
       "      <th>order_hour</th>\n",
       "    </tr>\n",
       "  </thead>\n",
       "  <tbody>\n",
       "    <tr>\n",
       "      <th>0</th>\n",
       "      <td>nnsz</td>\n",
       "      <td>854</td>\n",
       "      <td>CSH</td>\n",
       "      <td>False</td>\n",
       "      <td>0</td>\n",
       "      <td>0</td>\n",
       "      <td>0.0</td>\n",
       "      <td>0</td>\n",
       "      <td>114</td>\n",
       "      <td>913</td>\n",
       "      <td>1078</td>\n",
       "      <td>1</td>\n",
       "      <td>854</td>\n",
       "      <td>854.0</td>\n",
       "      <td>854</td>\n",
       "      <td>854</td>\n",
       "      <td>100.0</td>\n",
       "      <td>16</td>\n",
       "    </tr>\n",
       "  </tbody>\n",
       "</table>\n",
       "</div>"
      ],
      "text/plain": [
       "  service  total_ordered PaymentType  IsPaid  count_items  unique_items  \\\n",
       "0    nnsz            854         CSH   False            0             0   \n",
       "\n",
       "   avg_unique_purchase  is_courier  NmAge  Distance  DaysAfterRegistration  \\\n",
       "0                  0.0           0    114       913                   1078   \n",
       "\n",
       "   number_of_orders  number_of_ordered_items  mean_number_of_ordered_items  \\\n",
       "0                 1                      854                         854.0   \n",
       "\n",
       "   min_number_of_ordered_items  max_number_of_ordered_items  \\\n",
       "0                          854                          854   \n",
       "\n",
       "   mean_percent_of_ordered_items  order_hour  \n",
       "0                          100.0          16  "
      ]
     },
     "execution_count": 61,
     "metadata": {},
     "output_type": "execute_result"
    }
   ],
   "source": [
    "df_new"
   ]
  },
  {
   "cell_type": "code",
   "execution_count": 62,
   "metadata": {},
   "outputs": [],
   "source": [
    "import pickle\n",
    "with open('/Users/sergegribo/Desktop/ML/git_hackaton/Hackathon-DigitalDepartment-Wildberris-2025/our-flask-app/сatboost.pkl', \"rb\") as f:\n",
    "    model = pickle.load(f)"
   ]
  },
  {
   "cell_type": "code",
   "execution_count": 63,
   "metadata": {},
   "outputs": [
    {
     "name": "stdout",
     "output_type": "stream",
     "text": [
      "<class 'catboost.core.CatBoostClassifier'>\n"
     ]
    }
   ],
   "source": [
    "print(type(model))"
   ]
  },
  {
   "cell_type": "code",
   "execution_count": 64,
   "metadata": {},
   "outputs": [
    {
     "name": "stdout",
     "output_type": "stream",
     "text": [
      "<class 'pandas.core.frame.DataFrame'>\n"
     ]
    }
   ],
   "source": [
    "print(type(df_new))"
   ]
  },
  {
   "cell_type": "code",
   "execution_count": 65,
   "metadata": {},
   "outputs": [
    {
     "ename": "CatBoostError",
     "evalue": "/Users/zomb-ml-platform-msk/go-agent-21.2.0/pipelines/BuildMaster/catboost.git/catboost/libs/data/model_dataset_compatibility.cpp:81: At position 1 should be feature with name IsPaid (found total_ordered).",
     "output_type": "error",
     "traceback": [
      "\u001b[0;31m---------------------------------------------------------------------------\u001b[0m",
      "\u001b[0;31mCatBoostError\u001b[0m                             Traceback (most recent call last)",
      "Cell \u001b[0;32mIn[65], line 1\u001b[0m\n\u001b[0;32m----> 1\u001b[0m preds \u001b[38;5;241m=\u001b[39m model\u001b[38;5;241m.\u001b[39mpredict(df_new)\n",
      "File \u001b[0;32m/opt/anaconda3/envs/islp/lib/python3.12/site-packages/catboost/core.py:5257\u001b[0m, in \u001b[0;36mCatBoostClassifier.predict\u001b[0;34m(self, data, prediction_type, ntree_start, ntree_end, thread_count, verbose, task_type)\u001b[0m\n\u001b[1;32m   5206\u001b[0m \u001b[38;5;28;01mdef\u001b[39;00m \u001b[38;5;21mpredict\u001b[39m(\u001b[38;5;28mself\u001b[39m, data, prediction_type\u001b[38;5;241m=\u001b[39m\u001b[38;5;124m'\u001b[39m\u001b[38;5;124mClass\u001b[39m\u001b[38;5;124m'\u001b[39m, ntree_start\u001b[38;5;241m=\u001b[39m\u001b[38;5;241m0\u001b[39m, ntree_end\u001b[38;5;241m=\u001b[39m\u001b[38;5;241m0\u001b[39m, thread_count\u001b[38;5;241m=\u001b[39m\u001b[38;5;241m-\u001b[39m\u001b[38;5;241m1\u001b[39m, verbose\u001b[38;5;241m=\u001b[39m\u001b[38;5;28;01mNone\u001b[39;00m, task_type\u001b[38;5;241m=\u001b[39m\u001b[38;5;124m\"\u001b[39m\u001b[38;5;124mCPU\u001b[39m\u001b[38;5;124m\"\u001b[39m):\n\u001b[1;32m   5207\u001b[0m \u001b[38;5;250m    \u001b[39m\u001b[38;5;124;03m\"\"\"\u001b[39;00m\n\u001b[1;32m   5208\u001b[0m \u001b[38;5;124;03m    Predict with data.\u001b[39;00m\n\u001b[1;32m   5209\u001b[0m \n\u001b[0;32m   (...)\u001b[0m\n\u001b[1;32m   5255\u001b[0m \u001b[38;5;124;03m              with log probability for every class for each object.\u001b[39;00m\n\u001b[1;32m   5256\u001b[0m \u001b[38;5;124;03m    \"\"\"\u001b[39;00m\n\u001b[0;32m-> 5257\u001b[0m     \u001b[38;5;28;01mreturn\u001b[39;00m \u001b[38;5;28mself\u001b[39m\u001b[38;5;241m.\u001b[39m_predict(data, prediction_type, ntree_start, ntree_end, thread_count, verbose, \u001b[38;5;124m'\u001b[39m\u001b[38;5;124mpredict\u001b[39m\u001b[38;5;124m'\u001b[39m, task_type)\n",
      "File \u001b[0;32m/opt/anaconda3/envs/islp/lib/python3.12/site-packages/catboost/core.py:2601\u001b[0m, in \u001b[0;36mCatBoost._predict\u001b[0;34m(self, data, prediction_type, ntree_start, ntree_end, thread_count, verbose, parent_method_name, task_type)\u001b[0m\n\u001b[1;32m   2598\u001b[0m data, data_is_single_object \u001b[38;5;241m=\u001b[39m \u001b[38;5;28mself\u001b[39m\u001b[38;5;241m.\u001b[39m_process_predict_input_data(data, parent_method_name, thread_count)\n\u001b[1;32m   2599\u001b[0m \u001b[38;5;28mself\u001b[39m\u001b[38;5;241m.\u001b[39m_validate_prediction_type(prediction_type)\n\u001b[0;32m-> 2601\u001b[0m predictions \u001b[38;5;241m=\u001b[39m \u001b[38;5;28mself\u001b[39m\u001b[38;5;241m.\u001b[39m_base_predict(data, prediction_type, ntree_start, ntree_end, thread_count, verbose, task_type)\n\u001b[1;32m   2602\u001b[0m \u001b[38;5;28;01mreturn\u001b[39;00m predictions[\u001b[38;5;241m0\u001b[39m] \u001b[38;5;28;01mif\u001b[39;00m data_is_single_object \u001b[38;5;28;01melse\u001b[39;00m predictions\n",
      "File \u001b[0;32m/opt/anaconda3/envs/islp/lib/python3.12/site-packages/catboost/core.py:1828\u001b[0m, in \u001b[0;36m_CatBoostBase._base_predict\u001b[0;34m(self, pool, prediction_type, ntree_start, ntree_end, thread_count, verbose, task_type)\u001b[0m\n\u001b[1;32m   1827\u001b[0m \u001b[38;5;28;01mdef\u001b[39;00m \u001b[38;5;21m_base_predict\u001b[39m(\u001b[38;5;28mself\u001b[39m, pool, prediction_type, ntree_start, ntree_end, thread_count, verbose, task_type):\n\u001b[0;32m-> 1828\u001b[0m     \u001b[38;5;28;01mreturn\u001b[39;00m \u001b[38;5;28mself\u001b[39m\u001b[38;5;241m.\u001b[39m_object\u001b[38;5;241m.\u001b[39m_base_predict(pool, prediction_type, ntree_start, ntree_end, thread_count, verbose, task_type)\n",
      "File \u001b[0;32m_catboost.pyx:4969\u001b[0m, in \u001b[0;36m_catboost._CatBoost._base_predict\u001b[0;34m()\u001b[0m\n",
      "File \u001b[0;32m_catboost.pyx:4976\u001b[0m, in \u001b[0;36m_catboost._CatBoost._base_predict\u001b[0;34m()\u001b[0m\n",
      "\u001b[0;31mCatBoostError\u001b[0m: /Users/zomb-ml-platform-msk/go-agent-21.2.0/pipelines/BuildMaster/catboost.git/catboost/libs/data/model_dataset_compatibility.cpp:81: At position 1 should be feature with name IsPaid (found total_ordered)."
     ]
    }
   ],
   "source": [
    "preds = model.predict(df_new)"
   ]
  },
  {
   "cell_type": "code",
   "execution_count": null,
   "metadata": {},
   "outputs": [],
   "source": []
  }
 ],
 "metadata": {
  "kernelspec": {
   "display_name": "islp",
   "language": "python",
   "name": "python3"
  },
  "language_info": {
   "codemirror_mode": {
    "name": "ipython",
    "version": 3
   },
   "file_extension": ".py",
   "mimetype": "text/x-python",
   "name": "python",
   "nbconvert_exporter": "python",
   "pygments_lexer": "ipython3",
   "version": "3.12.4"
  }
 },
 "nbformat": 4,
 "nbformat_minor": 2
}
