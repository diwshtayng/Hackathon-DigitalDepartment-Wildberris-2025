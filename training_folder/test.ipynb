{
 "cells": [
  {
   "cell_type": "code",
   "execution_count": 68,
   "metadata": {},
   "outputs": [],
   "source": [
    "import pandas as pd\n",
    "#from preprocessor import preprocess"
   ]
  },
  {
   "cell_type": "code",
   "execution_count": 69,
   "metadata": {},
   "outputs": [],
   "source": [
    "df = pd.read_csv('df_train.csv')"
   ]
  },
  {
   "cell_type": "code",
   "execution_count": 70,
   "metadata": {},
   "outputs": [],
   "source": [
    "df.drop('target', axis=1, inplace=True)"
   ]
  },
  {
   "cell_type": "code",
   "execution_count": 39,
   "metadata": {},
   "outputs": [],
   "source": [
    "df['CreatedDate'] = pd.to_datetime(df['CreatedDate'])\n",
    "df['order_hour'] = df['CreatedDate'].dt.hour\n",
    "df.drop('CreatedDate', axis=1, inplace=True)\n",
    "df.drop(columns=['nm_id', 'user_id'], inplace=True)"
   ]
  },
  {
   "cell_type": "code",
   "execution_count": 71,
   "metadata": {},
   "outputs": [
    {
     "data": {
      "text/html": [
       "<div>\n",
       "<style scoped>\n",
       "    .dataframe tbody tr th:only-of-type {\n",
       "        vertical-align: middle;\n",
       "    }\n",
       "\n",
       "    .dataframe tbody tr th {\n",
       "        vertical-align: top;\n",
       "    }\n",
       "\n",
       "    .dataframe thead th {\n",
       "        text-align: right;\n",
       "    }\n",
       "</style>\n",
       "<table border=\"1\" class=\"dataframe\">\n",
       "  <thead>\n",
       "    <tr style=\"text-align: right;\">\n",
       "      <th></th>\n",
       "      <th>user_id</th>\n",
       "      <th>nm_id</th>\n",
       "      <th>CreatedDate</th>\n",
       "      <th>service</th>\n",
       "      <th>total_ordered</th>\n",
       "      <th>PaymentType</th>\n",
       "      <th>IsPaid</th>\n",
       "      <th>count_items</th>\n",
       "      <th>unique_items</th>\n",
       "      <th>avg_unique_purchase</th>\n",
       "      <th>is_courier</th>\n",
       "      <th>NmAge</th>\n",
       "      <th>Distance</th>\n",
       "      <th>DaysAfterRegistration</th>\n",
       "      <th>number_of_orders</th>\n",
       "      <th>number_of_ordered_items</th>\n",
       "      <th>mean_number_of_ordered_items</th>\n",
       "      <th>min_number_of_ordered_items</th>\n",
       "      <th>max_number_of_ordered_items</th>\n",
       "      <th>mean_percent_of_ordered_items</th>\n",
       "    </tr>\n",
       "  </thead>\n",
       "  <tbody>\n",
       "    <tr>\n",
       "      <th>0</th>\n",
       "      <td>1</td>\n",
       "      <td>1</td>\n",
       "      <td>2025-01-05 02:20:24+03:00</td>\n",
       "      <td>nnsz</td>\n",
       "      <td>627</td>\n",
       "      <td>CSH</td>\n",
       "      <td>False</td>\n",
       "      <td>4</td>\n",
       "      <td>4</td>\n",
       "      <td>1.00</td>\n",
       "      <td>0</td>\n",
       "      <td>117</td>\n",
       "      <td>3443</td>\n",
       "      <td>73</td>\n",
       "      <td>1</td>\n",
       "      <td>627</td>\n",
       "      <td>627.0</td>\n",
       "      <td>627</td>\n",
       "      <td>627</td>\n",
       "      <td>100.000000</td>\n",
       "    </tr>\n",
       "    <tr>\n",
       "      <th>1</th>\n",
       "      <td>2</td>\n",
       "      <td>2</td>\n",
       "      <td>2024-11-05 09:05:21+03:00</td>\n",
       "      <td>nnsz</td>\n",
       "      <td>512</td>\n",
       "      <td>CRD</td>\n",
       "      <td>True</td>\n",
       "      <td>0</td>\n",
       "      <td>0</td>\n",
       "      <td>0.00</td>\n",
       "      <td>0</td>\n",
       "      <td>920</td>\n",
       "      <td>3478</td>\n",
       "      <td>1237</td>\n",
       "      <td>2</td>\n",
       "      <td>606</td>\n",
       "      <td>303.0</td>\n",
       "      <td>94</td>\n",
       "      <td>512</td>\n",
       "      <td>50.000000</td>\n",
       "    </tr>\n",
       "    <tr>\n",
       "      <th>2</th>\n",
       "      <td>3</td>\n",
       "      <td>3</td>\n",
       "      <td>2024-12-11 13:45:33+03:00</td>\n",
       "      <td>nnsz</td>\n",
       "      <td>500</td>\n",
       "      <td>CRD</td>\n",
       "      <td>True</td>\n",
       "      <td>0</td>\n",
       "      <td>0</td>\n",
       "      <td>0.00</td>\n",
       "      <td>1</td>\n",
       "      <td>420</td>\n",
       "      <td>771</td>\n",
       "      <td>4003</td>\n",
       "      <td>1</td>\n",
       "      <td>500</td>\n",
       "      <td>500.0</td>\n",
       "      <td>500</td>\n",
       "      <td>500</td>\n",
       "      <td>100.000000</td>\n",
       "    </tr>\n",
       "    <tr>\n",
       "      <th>3</th>\n",
       "      <td>4</td>\n",
       "      <td>4</td>\n",
       "      <td>2025-01-24 07:47:34+03:00</td>\n",
       "      <td>nnsz</td>\n",
       "      <td>452</td>\n",
       "      <td>CSH</td>\n",
       "      <td>False</td>\n",
       "      <td>6</td>\n",
       "      <td>2</td>\n",
       "      <td>0.33</td>\n",
       "      <td>0</td>\n",
       "      <td>20112</td>\n",
       "      <td>763</td>\n",
       "      <td>977</td>\n",
       "      <td>5</td>\n",
       "      <td>1102</td>\n",
       "      <td>220.4</td>\n",
       "      <td>100</td>\n",
       "      <td>452</td>\n",
       "      <td>20.000000</td>\n",
       "    </tr>\n",
       "    <tr>\n",
       "      <th>4</th>\n",
       "      <td>5</td>\n",
       "      <td>5</td>\n",
       "      <td>2024-11-27 11:50:43+03:00</td>\n",
       "      <td>nnsz</td>\n",
       "      <td>450</td>\n",
       "      <td>CRD</td>\n",
       "      <td>True</td>\n",
       "      <td>0</td>\n",
       "      <td>0</td>\n",
       "      <td>0.00</td>\n",
       "      <td>0</td>\n",
       "      <td>141</td>\n",
       "      <td>1089</td>\n",
       "      <td>1637</td>\n",
       "      <td>3</td>\n",
       "      <td>549</td>\n",
       "      <td>183.0</td>\n",
       "      <td>1</td>\n",
       "      <td>450</td>\n",
       "      <td>33.333333</td>\n",
       "    </tr>\n",
       "  </tbody>\n",
       "</table>\n",
       "</div>"
      ],
      "text/plain": [
       "   user_id  nm_id                CreatedDate service  total_ordered  \\\n",
       "0        1      1  2025-01-05 02:20:24+03:00    nnsz            627   \n",
       "1        2      2  2024-11-05 09:05:21+03:00    nnsz            512   \n",
       "2        3      3  2024-12-11 13:45:33+03:00    nnsz            500   \n",
       "3        4      4  2025-01-24 07:47:34+03:00    nnsz            452   \n",
       "4        5      5  2024-11-27 11:50:43+03:00    nnsz            450   \n",
       "\n",
       "  PaymentType  IsPaid  count_items  unique_items  avg_unique_purchase  \\\n",
       "0         CSH   False            4             4                 1.00   \n",
       "1         CRD    True            0             0                 0.00   \n",
       "2         CRD    True            0             0                 0.00   \n",
       "3         CSH   False            6             2                 0.33   \n",
       "4         CRD    True            0             0                 0.00   \n",
       "\n",
       "   is_courier  NmAge  Distance  DaysAfterRegistration  number_of_orders  \\\n",
       "0           0    117      3443                     73                 1   \n",
       "1           0    920      3478                   1237                 2   \n",
       "2           1    420       771                   4003                 1   \n",
       "3           0  20112       763                    977                 5   \n",
       "4           0    141      1089                   1637                 3   \n",
       "\n",
       "   number_of_ordered_items  mean_number_of_ordered_items  \\\n",
       "0                      627                         627.0   \n",
       "1                      606                         303.0   \n",
       "2                      500                         500.0   \n",
       "3                     1102                         220.4   \n",
       "4                      549                         183.0   \n",
       "\n",
       "   min_number_of_ordered_items  max_number_of_ordered_items  \\\n",
       "0                          627                          627   \n",
       "1                           94                          512   \n",
       "2                          500                          500   \n",
       "3                          100                          452   \n",
       "4                            1                          450   \n",
       "\n",
       "   mean_percent_of_ordered_items  \n",
       "0                     100.000000  \n",
       "1                      50.000000  \n",
       "2                     100.000000  \n",
       "3                      20.000000  \n",
       "4                      33.333333  "
      ]
     },
     "execution_count": 71,
     "metadata": {},
     "output_type": "execute_result"
    }
   ],
   "source": [
    "df.head()"
   ]
  },
  {
   "cell_type": "code",
   "execution_count": 72,
   "metadata": {},
   "outputs": [],
   "source": [
    "one_line = df.loc[:0]\n",
    "one_line.to_csv('test_data.csv', index=False)"
   ]
  },
  {
   "cell_type": "code",
   "execution_count": null,
   "metadata": {},
   "outputs": [],
   "source": [
    "import os\n",
    "import pickle\n",
    "MODEL_PATH = os.path.join(os.path.dirname(__file__), \"catboost_correct.pkl\")\n",
    "\n",
    "try:\n",
    "    with open(MODEL_PATH, \"rb\") as f:\n",
    "        model = pickle.load(f)\n",
    "except Exception as e:\n",
    "    print(f\"Ошибка при загрузке модели: {e}\")\n",
    "    model = None"
   ]
  },
  {
   "cell_type": "code",
   "execution_count": 73,
   "metadata": {},
   "outputs": [
    {
     "ename": "FileNotFoundError",
     "evalue": "[Errno 2] No such file or directory: '/Users/sergegribo/Desktop/ML/git_hackaton/Hackathon-DigitalDepartment-Wildberris-2025/our-flask-app/сatboost_correct.pkl'",
     "output_type": "error",
     "traceback": [
      "\u001b[0;31m---------------------------------------------------------------------------\u001b[0m",
      "\u001b[0;31mFileNotFoundError\u001b[0m                         Traceback (most recent call last)",
      "Cell \u001b[0;32mIn[73], line 2\u001b[0m\n\u001b[1;32m      1\u001b[0m \u001b[38;5;28;01mimport\u001b[39;00m \u001b[38;5;21;01mpickle\u001b[39;00m\n\u001b[0;32m----> 2\u001b[0m \u001b[38;5;28;01mwith\u001b[39;00m \u001b[38;5;28mopen\u001b[39m(\u001b[38;5;124m'\u001b[39m\u001b[38;5;124m/Users/sergegribo/Desktop/ML/git_hackaton/Hackathon-DigitalDepartment-Wildberris-2025/our-flask-app/сatboost_correct.pkl\u001b[39m\u001b[38;5;124m'\u001b[39m, \u001b[38;5;124m\"\u001b[39m\u001b[38;5;124mrb\u001b[39m\u001b[38;5;124m\"\u001b[39m) \u001b[38;5;28;01mas\u001b[39;00m f:\n\u001b[1;32m      3\u001b[0m     model \u001b[38;5;241m=\u001b[39m pickle\u001b[38;5;241m.\u001b[39mload(f)\n",
      "File \u001b[0;32m/opt/anaconda3/envs/islp/lib/python3.12/site-packages/IPython/core/interactiveshell.py:324\u001b[0m, in \u001b[0;36m_modified_open\u001b[0;34m(file, *args, **kwargs)\u001b[0m\n\u001b[1;32m    317\u001b[0m \u001b[38;5;28;01mif\u001b[39;00m file \u001b[38;5;129;01min\u001b[39;00m {\u001b[38;5;241m0\u001b[39m, \u001b[38;5;241m1\u001b[39m, \u001b[38;5;241m2\u001b[39m}:\n\u001b[1;32m    318\u001b[0m     \u001b[38;5;28;01mraise\u001b[39;00m \u001b[38;5;167;01mValueError\u001b[39;00m(\n\u001b[1;32m    319\u001b[0m         \u001b[38;5;124mf\u001b[39m\u001b[38;5;124m\"\u001b[39m\u001b[38;5;124mIPython won\u001b[39m\u001b[38;5;124m'\u001b[39m\u001b[38;5;124mt let you open fd=\u001b[39m\u001b[38;5;132;01m{\u001b[39;00mfile\u001b[38;5;132;01m}\u001b[39;00m\u001b[38;5;124m by default \u001b[39m\u001b[38;5;124m\"\u001b[39m\n\u001b[1;32m    320\u001b[0m         \u001b[38;5;124m\"\u001b[39m\u001b[38;5;124mas it is likely to crash IPython. If you know what you are doing, \u001b[39m\u001b[38;5;124m\"\u001b[39m\n\u001b[1;32m    321\u001b[0m         \u001b[38;5;124m\"\u001b[39m\u001b[38;5;124myou can use builtins\u001b[39m\u001b[38;5;124m'\u001b[39m\u001b[38;5;124m open.\u001b[39m\u001b[38;5;124m\"\u001b[39m\n\u001b[1;32m    322\u001b[0m     )\n\u001b[0;32m--> 324\u001b[0m \u001b[38;5;28;01mreturn\u001b[39;00m io_open(file, \u001b[38;5;241m*\u001b[39margs, \u001b[38;5;241m*\u001b[39m\u001b[38;5;241m*\u001b[39mkwargs)\n",
      "\u001b[0;31mFileNotFoundError\u001b[0m: [Errno 2] No such file or directory: '/Users/sergegribo/Desktop/ML/git_hackaton/Hackathon-DigitalDepartment-Wildberris-2025/our-flask-app/сatboost_correct.pkl'"
     ]
    }
   ],
   "source": [
    "import pickle\n",
    "with open('/Users/sergegribo/Desktop/ML/git_hackaton/Hackathon-DigitalDepartment-Wildberris-2025/our-flask-app/сatboost_correct.pkl', \"rb\") as f:\n",
    "    model = pickle.load(f)"
   ]
  },
  {
   "cell_type": "code",
   "execution_count": 62,
   "metadata": {},
   "outputs": [],
   "source": [
    "df_train = pd.read_csv('test_data.csv')"
   ]
  },
  {
   "cell_type": "code",
   "execution_count": 63,
   "metadata": {},
   "outputs": [
    {
     "data": {
      "text/html": [
       "<div>\n",
       "<style scoped>\n",
       "    .dataframe tbody tr th:only-of-type {\n",
       "        vertical-align: middle;\n",
       "    }\n",
       "\n",
       "    .dataframe tbody tr th {\n",
       "        vertical-align: top;\n",
       "    }\n",
       "\n",
       "    .dataframe thead th {\n",
       "        text-align: right;\n",
       "    }\n",
       "</style>\n",
       "<table border=\"1\" class=\"dataframe\">\n",
       "  <thead>\n",
       "    <tr style=\"text-align: right;\">\n",
       "      <th></th>\n",
       "      <th>user_id</th>\n",
       "      <th>nm_id</th>\n",
       "      <th>CreatedDate</th>\n",
       "      <th>service</th>\n",
       "      <th>total_ordered</th>\n",
       "      <th>PaymentType</th>\n",
       "      <th>IsPaid</th>\n",
       "      <th>count_items</th>\n",
       "      <th>unique_items</th>\n",
       "      <th>avg_unique_purchase</th>\n",
       "      <th>is_courier</th>\n",
       "      <th>NmAge</th>\n",
       "      <th>Distance</th>\n",
       "      <th>DaysAfterRegistration</th>\n",
       "      <th>number_of_orders</th>\n",
       "      <th>number_of_ordered_items</th>\n",
       "      <th>mean_number_of_ordered_items</th>\n",
       "      <th>min_number_of_ordered_items</th>\n",
       "      <th>max_number_of_ordered_items</th>\n",
       "      <th>mean_percent_of_ordered_items</th>\n",
       "    </tr>\n",
       "  </thead>\n",
       "  <tbody>\n",
       "    <tr>\n",
       "      <th>0</th>\n",
       "      <td>1</td>\n",
       "      <td>1</td>\n",
       "      <td>2025-01-05 02:20:24+03:00</td>\n",
       "      <td>nnsz</td>\n",
       "      <td>627</td>\n",
       "      <td>CSH</td>\n",
       "      <td>False</td>\n",
       "      <td>4</td>\n",
       "      <td>4</td>\n",
       "      <td>1.0</td>\n",
       "      <td>0</td>\n",
       "      <td>117</td>\n",
       "      <td>3443</td>\n",
       "      <td>73</td>\n",
       "      <td>1</td>\n",
       "      <td>627</td>\n",
       "      <td>627.0</td>\n",
       "      <td>627</td>\n",
       "      <td>627</td>\n",
       "      <td>100.0</td>\n",
       "    </tr>\n",
       "  </tbody>\n",
       "</table>\n",
       "</div>"
      ],
      "text/plain": [
       "   user_id  nm_id                CreatedDate service  total_ordered  \\\n",
       "0        1      1  2025-01-05 02:20:24+03:00    nnsz            627   \n",
       "\n",
       "  PaymentType  IsPaid  count_items  unique_items  avg_unique_purchase  \\\n",
       "0         CSH   False            4             4                  1.0   \n",
       "\n",
       "   is_courier  NmAge  Distance  DaysAfterRegistration  number_of_orders  \\\n",
       "0           0    117      3443                     73                 1   \n",
       "\n",
       "   number_of_ordered_items  mean_number_of_ordered_items  \\\n",
       "0                      627                         627.0   \n",
       "\n",
       "   min_number_of_ordered_items  max_number_of_ordered_items  \\\n",
       "0                          627                          627   \n",
       "\n",
       "   mean_percent_of_ordered_items  \n",
       "0                          100.0  "
      ]
     },
     "execution_count": 63,
     "metadata": {},
     "output_type": "execute_result"
    }
   ],
   "source": [
    "df_train.head()"
   ]
  },
  {
   "cell_type": "code",
   "execution_count": 64,
   "metadata": {},
   "outputs": [],
   "source": [
    "df_train['CreatedDate'] = pd.to_datetime(df_train['CreatedDate'])\n",
    "df_train['order_hour'] = df_train['CreatedDate'].dt.hour\n",
    "df_train.drop('CreatedDate', axis=1, inplace=True)\n",
    "df_train.drop(columns=['nm_id', 'user_id'], inplace=True)"
   ]
  },
  {
   "cell_type": "code",
   "execution_count": 65,
   "metadata": {},
   "outputs": [],
   "source": [
    "preds = model.predict(df_train)\n",
    "pred = model.predict_proba(df_train)"
   ]
  },
  {
   "cell_type": "code",
   "execution_count": 67,
   "metadata": {},
   "outputs": [
    {
     "data": {
      "text/plain": [
       "array([[9.99989030e-01, 1.09704371e-05]])"
      ]
     },
     "execution_count": 67,
     "metadata": {},
     "output_type": "execute_result"
    }
   ],
   "source": [
    "pred"
   ]
  },
  {
   "cell_type": "code",
   "execution_count": 66,
   "metadata": {},
   "outputs": [
    {
     "data": {
      "text/plain": [
       "array([0])"
      ]
     },
     "execution_count": 66,
     "metadata": {},
     "output_type": "execute_result"
    }
   ],
   "source": [
    "preds"
   ]
  },
  {
   "cell_type": "code",
   "execution_count": 25,
   "metadata": {},
   "outputs": [
    {
     "data": {
      "text/plain": [
       "array([1.09704371e-05])"
      ]
     },
     "execution_count": 25,
     "metadata": {},
     "output_type": "execute_result"
    }
   ],
   "source": [
    "pred[:, 1]"
   ]
  },
  {
   "cell_type": "code",
   "execution_count": 17,
   "metadata": {},
   "outputs": [
    {
     "data": {
      "text/plain": [
       "array([0])"
      ]
     },
     "execution_count": 17,
     "metadata": {},
     "output_type": "execute_result"
    }
   ],
   "source": [
    "preds"
   ]
  },
  {
   "cell_type": "code",
   "execution_count": null,
   "metadata": {},
   "outputs": [],
   "source": []
  }
 ],
 "metadata": {
  "kernelspec": {
   "display_name": "islp",
   "language": "python",
   "name": "python3"
  },
  "language_info": {
   "codemirror_mode": {
    "name": "ipython",
    "version": 3
   },
   "file_extension": ".py",
   "mimetype": "text/x-python",
   "name": "python",
   "nbconvert_exporter": "python",
   "pygments_lexer": "ipython3",
   "version": "3.12.4"
  }
 },
 "nbformat": 4,
 "nbformat_minor": 2
}
